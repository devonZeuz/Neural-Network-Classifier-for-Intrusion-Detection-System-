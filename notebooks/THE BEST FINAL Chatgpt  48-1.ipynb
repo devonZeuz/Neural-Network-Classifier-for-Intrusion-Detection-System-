{
 "cells": [
  {
   "cell_type": "code",
   "execution_count": 1,
   "metadata": {},
   "outputs": [],
   "source": [
    "import pandas as pd\n",
    "import numpy as np\n",
    "from sklearn.model_selection import StratifiedKFold\n",
    "from sklearn.preprocessing import LabelEncoder, RobustScaler\n",
    "from imblearn.over_sampling import SMOTE\n",
    "from sklearn.metrics import classification_report, confusion_matrix, roc_auc_score, log_loss\n",
    "from sklearn.utils.class_weight import compute_class_weight\n",
    "from tensorflow.keras.models import Sequential\n",
    "from tensorflow.keras.layers import Dense, Dropout, Flatten\n",
    "from tensorflow.keras.callbacks import EarlyStopping, TensorBoard\n",
    "from tensorflow.keras.optimizers import Adam\n",
    "from tensorflow.keras.regularizers import l2\n",
    "import os\n",
    "import datetime"
   ]
  },
  {
   "cell_type": "code",
   "execution_count": 2,
   "metadata": {},
   "outputs": [
    {
     "name": "stderr",
     "output_type": "stream",
     "text": [
      "C:\\Users\\Canela\\AppData\\Local\\Temp\\ipykernel_17288\\1423881279.py:4: DtypeWarning: Columns (7) have mixed types. Specify dtype option on import or set low_memory=False.\n",
      "  df = pd.read_csv(file_path, delimiter='\\t', comment='#', na_values='-', header=None, dtype={'service': str})\n"
     ]
    },
    {
     "name": "stdout",
     "output_type": "stream",
     "text": [
      "Final unique labels:\n",
      "['-   Malicious   C&C-HeartBeat-FileDownload'\n",
      " '-   Malicious   PartOfAHorizontalPortScan' '-   Malicious   Attack'\n",
      " '-   Benign   -' '-   Malicious   C&C-HeartBeat-Attack'\n",
      " '-   Malicious   C&C-PartOfAHorizontalPortScan']\n",
      "Number of unique labels: 6\n"
     ]
    }
   ],
   "source": [
    "# Step 1: Data Loading with the correct delimiter\n",
    "file_path = r\"C:\\Users\\Canela\\Desktop\\Project\\CTU-IoT-Malware-Capture-48-1\\bro\\conn.log.labeled\"\n",
    "\n",
    "df = pd.read_csv(file_path, delimiter='\\t', comment='#', na_values='-', header=None, dtype={'service': str})\n",
    "\n",
    "# Manually assign column names based on the expected structure\n",
    "df.columns = [\n",
    "    'ts', 'uid', 'id.orig_h', 'id.orig_p', 'id.resp_h', 'id.resp_p', 'proto', 'service',\n",
    "    'duration', 'orig_bytes', 'resp_bytes', 'conn_state', 'local_orig', 'local_resp',\n",
    "    'missed_bytes', 'history', 'orig_pkts', 'orig_ip_bytes', 'resp_pkts', 'resp_ip_bytes',\n",
    "    'label'\n",
    "]\n",
    "\n",
    "# Check the unique values in the 'label' column\n",
    "print(\"Final unique labels:\")\n",
    "print(df['label'].unique())\n",
    "print(\"Number of unique labels:\", len(df['label'].unique()))\n"
   ]
  },
  {
   "cell_type": "code",
   "execution_count": 3,
   "metadata": {},
   "outputs": [],
   "source": [
    "# Step 2: Handle Categorical Variables and Feature Engineering\n",
    "# Encode label\n",
    "label_encoder = LabelEncoder()\n",
    "df['label_encoded'] = label_encoder.fit_transform(df['label'])\n",
    "\n",
    "# Drop columns that might cause data leakage\n",
    "df.drop(columns=['uid', 'ts', 'id.orig_h', 'id.resp_h'], inplace=True)\n",
    "\n",
    "# One-Hot Encode categorical variables\n",
    "categorical_features = ['proto', 'service', 'conn_state', 'local_orig', 'local_resp', 'history']\n",
    "df = pd.get_dummies(df, columns=categorical_features, drop_first=True)\n",
    "\n",
    "# Fill remaining NaN values if any\n",
    "df.fillna(0, inplace=True)\n",
    "\n",
    "# Split features and target\n",
    "X = df.drop(['label', 'label_encoded'], axis=1)\n",
    "y = df['label_encoded']"
   ]
  },
  {
   "cell_type": "code",
   "execution_count": 4,
   "metadata": {},
   "outputs": [],
   "source": [
    "# Step 3: Handle Imbalance using SMOTE\n",
    "smote = SMOTE()\n",
    "X_res, y_res = smote.fit_resample(X, y)"
   ]
  },
  {
   "cell_type": "code",
   "execution_count": 5,
   "metadata": {},
   "outputs": [],
   "source": [
    "# Step 4: Scale Features\n",
    "scaler = RobustScaler()\n",
    "X_res_scaled = scaler.fit_transform(X_res)"
   ]
  },
  {
   "cell_type": "code",
   "execution_count": 6,
   "metadata": {},
   "outputs": [
    {
     "name": "stdout",
     "output_type": "stream",
     "text": [
      "Epoch 1/50\n",
      "63490/63490 [==============================] - 166s 3ms/step - loss: 0.6357 - accuracy: 0.7782 - val_loss: 0.3743 - val_accuracy: 0.8250\n",
      "Epoch 2/50\n",
      "63490/63490 [==============================] - 144s 2ms/step - loss: 0.4025 - accuracy: 0.8073 - val_loss: 0.3614 - val_accuracy: 0.8286\n",
      "Epoch 3/50\n",
      "63490/63490 [==============================] - 141s 2ms/step - loss: 0.3985 - accuracy: 0.8106 - val_loss: 0.3547 - val_accuracy: 0.8258\n",
      "Epoch 4/50\n",
      "63490/63490 [==============================] - 147s 2ms/step - loss: 0.3918 - accuracy: 0.8145 - val_loss: 0.3501 - val_accuracy: 0.8210\n",
      "Epoch 5/50\n",
      "63490/63490 [==============================] - 138s 2ms/step - loss: 0.3865 - accuracy: 0.8195 - val_loss: 0.3397 - val_accuracy: 0.8349\n",
      "Epoch 6/50\n",
      "63490/63490 [==============================] - 151s 2ms/step - loss: 0.3825 - accuracy: 0.8225 - val_loss: 0.3307 - val_accuracy: 0.8377\n",
      "Epoch 7/50\n",
      "48671/63490 [=====================>........] - ETA: 31s - loss: 0.3707 - accuracy: 0.8237"
     ]
    }
   ],
   "source": [
    "# Step 5: Stratified K-Fold Cross-Validation Setup\n",
    "skf = StratifiedKFold(n_splits=5, shuffle=True, random_state=42)\n",
    "cross_val_scores = []\n",
    "roc_auc_scores = []\n",
    "log_losses = []\n",
    "\n",
    "# Model training and evaluation within each fold\n",
    "for train_index, val_index in skf.split(X_res_scaled, y_res):\n",
    "    X_train, X_val = X_res_scaled[train_index], X_res_scaled[val_index]\n",
    "    y_train, y_val = y_res[train_index], y_res[val_index]\n",
    "\n",
    "    # Compute class weights\n",
    "    class_weights = compute_class_weight(class_weight='balanced', classes=np.unique(y_train), y=y_train)\n",
    "    class_weights_dict = dict(enumerate(class_weights))\n",
    "\n",
    "    # Step 6: Build and Compile Model\n",
    "    model = Sequential([\n",
    "        Flatten(input_shape=(X_train.shape[1],)),\n",
    "        Dense(128, activation='relu', kernel_regularizer=l2(0.001)),\n",
    "        Dropout(0.4),\n",
    "        Dense(64, activation='relu', kernel_regularizer=l2(0.001)),\n",
    "        Dropout(0.3),\n",
    "        Dense(len(np.unique(y_res)), activation='softmax')\n",
    "    ])\n",
    "\n",
    "    model.compile(optimizer=Adam(learning_rate=0.001), loss='sparse_categorical_crossentropy', metrics=['accuracy'])\n",
    "\n",
    "    # Setup callbacks for early stopping and tensorboard\n",
    "    log_dir = os.path.join(\"train_logs\", datetime.datetime.now().strftime(\"%Y%m%d-%H%M%S\"))\n",
    "    tensorboard_callback = TensorBoard(log_dir=log_dir, histogram_freq=1)\n",
    "    early_stop_callback = EarlyStopping(monitor='val_loss', patience=10, restore_best_weights=True)\n",
    "\n",
    "    # Step 7: Model Training\n",
    "    model.fit(X_train, y_train, validation_data=(X_val, y_val), epochs=50, batch_size=256,\n",
    "              class_weight=class_weights_dict, callbacks=[tensorboard_callback, early_stop_callback])\n",
    "\n",
    "    # Step 8: Model Evaluation\n",
    "    val_loss, val_accuracy = model.evaluate(X_val, y_val, verbose=2)\n",
    "    val_predictions = model.predict(X_val)\n",
    "    y_pred_classes = np.argmax(val_predictions, axis=1)\n",
    "\n",
    "    cross_val_scores.append(val_accuracy)\n",
    "    roc_auc_scores.append(roc_auc_score(y_val, val_predictions, multi_class='ovo'))\n",
    "    log_losses.append(log_loss(y_val, val_predictions))\n",
    "\n",
    "    print(\"Confusion Matrix:\")\n",
    "    print(confusion_matrix(y_val, y_pred_classes))\n",
    "    print(\"Classification Report:\")\n",
    "    print(classification_report(y_val, y_pred_classes, target_names=label_encoder.classes_))\n",
    "\n"
   ]
  },
  {
   "cell_type": "code",
   "execution_count": null,
   "metadata": {},
   "outputs": [
    {
     "name": "stdout",
     "output_type": "stream",
     "text": [
      "Mean CV Accuracy: 0.9871473193168641\n",
      "Mean ROC-AUC Score: 0.9932508252323821\n",
      "Mean Log Loss: 0.1373002624623973\n"
     ]
    }
   ],
   "source": [
    "# Step 9: Summary of Cross-Validation Results\n",
    "print(f\"Mean CV Accuracy: {np.mean(cross_val_scores)}\")\n",
    "print(f\"Mean ROC-AUC Score: {np.mean(roc_auc_scores)}\")\n",
    "print(f\"Mean Log Loss: {np.mean(log_losses)}\")"
   ]
  }
 ],
 "metadata": {
  "kernelspec": {
   "display_name": "Python 3",
   "language": "python",
   "name": "python3"
  },
  "language_info": {
   "codemirror_mode": {
    "name": "ipython",
    "version": 3
   },
   "file_extension": ".py",
   "mimetype": "text/x-python",
   "name": "python",
   "nbconvert_exporter": "python",
   "pygments_lexer": "ipython3",
   "version": "3.11.0"
  }
 },
 "nbformat": 4,
 "nbformat_minor": 2
}
